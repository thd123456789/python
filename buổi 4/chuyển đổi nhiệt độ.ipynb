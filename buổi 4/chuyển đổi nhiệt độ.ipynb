{
 "cells": [
  {
   "cell_type": "code",
   "execution_count": 1,
   "id": "db68208d-4bb6-4e52-a2d9-4e6ce37611cf",
   "metadata": {},
   "outputs": [
    {
     "name": "stdin",
     "output_type": "stream",
     "text": [
      "nhập nhiệt độ (độ C): 18\n"
     ]
    },
    {
     "name": "stdout",
     "output_type": "stream",
     "text": [
      "nhiệt độ đó chuyển sang độ F là 64.4\n"
     ]
    }
   ],
   "source": [
    "Celcius=float(input(\"nhập nhiệt độ (độ C):\"))\n",
    "Fahrenheit=(Celcius*1.8)+32\n",
    "print(f\"nhiệt độ đó chuyển sang độ F là {Fahrenheit}\")"
   ]
  }
 ],
 "metadata": {
  "kernelspec": {
   "display_name": "Python 3 (ipykernel)",
   "language": "python",
   "name": "python3"
  },
  "language_info": {
   "codemirror_mode": {
    "name": "ipython",
    "version": 3
   },
   "file_extension": ".py",
   "mimetype": "text/x-python",
   "name": "python",
   "nbconvert_exporter": "python",
   "pygments_lexer": "ipython3",
   "version": "3.11.4"
  }
 },
 "nbformat": 4,
 "nbformat_minor": 5
}
