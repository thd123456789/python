{
 "cells": [
  {
   "cell_type": "code",
   "execution_count": 5,
   "id": "b6bf280a-974e-499e-b839-40fa0f02e22f",
   "metadata": {},
   "outputs": [],
   "source": [
    "import turtle\n",
    "pen=turtle.Turtle()\n",
    "pen.pensize(1) \n",
    "facesize = 200\n",
    "pen.penup()\n",
    "pen.goto(0, -200)\n",
    "pen.pendown()\n",
    "pen.circle(facesize)\n",
    "pen.fillcolor (\"red\")\n",
    "pen.penup()\n",
    "pen.goto(-100,50)\n",
    "pen.pendown()\n",
    "eye_size = 17.5\n",
    "pen.begin_fill()\n",
    "pen.circle(eye_size)\n",
    "pen.end_fill()\n",
    "pen.penup()\n",
    "pen.goto(100,50)\n",
    "pen.pendown()\n",
    "pen.begin_fill()\n",
    "pen.circle(eye_size)\n",
    "pen.end_fill()\n",
    "pen.penup ()\n",
    "pen.goto(0,50)\n",
    "pen.pendown()\n",
    "pen.circle(-70, steps=3)\n",
    "pen.penup()\n",
    "pen.goto(-100, -70)\n",
    "pen.pendown()\n",
    "pen.right(90)\n",
    "pen.circle(100,180)\n",
    "turtle.done()"
   ]
  }
 ],
 "metadata": {
  "kernelspec": {
   "display_name": "Python 3 (ipykernel)",
   "language": "python",
   "name": "python3"
  },
  "language_info": {
   "codemirror_mode": {
    "name": "ipython",
    "version": 3
   },
   "file_extension": ".py",
   "mimetype": "text/x-python",
   "name": "python",
   "nbconvert_exporter": "python",
   "pygments_lexer": "ipython3",
   "version": "3.11.4"
  }
 },
 "nbformat": 4,
 "nbformat_minor": 5
}
