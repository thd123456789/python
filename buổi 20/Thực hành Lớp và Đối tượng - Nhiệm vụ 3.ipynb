{
 "cells": [
  {
   "cell_type": "code",
   "execution_count": null,
   "id": "a42fa0c7",
   "metadata": {},
   "outputs": [],
   "source": [
    "\"\"\"\n",
    "Tạo class có tên Equation gồm có các thuộc tính và phương thức sau:\n",
    "+ Thuộc tính: number1, number2\n",
    "+ Phương thức:\n",
    "- Phương thức tạo __init()__\n",
    "- print_info(): dùng để hiển thị number1, number2\n",
    "- addition(): dùng để cộng number1, number2\n",
    "- subtract(): trừ number1, number2\n",
    "- multi(): dùng để nhân number1, number2\n",
    "- division(): dùng để chia number1, number2.\n",
    "\n",
    "Sau khi tạo class, khởi tạo một object Equation và in ra kết quả tính toán từ các hàm thực hiện phép tính\n",
    "\"\"\""
   ]
  },
  {
   "cell_type": "code",
   "execution_count": 19,
   "id": "9da7a96d-2f80-4dea-b9b4-584c4de654f3",
   "metadata": {},
   "outputs": [],
   "source": [
    "class Equation:\n",
    "    def __init__(self, number1, number2):\n",
    "        self.number1=number1\n",
    "        self.number2=number2\n",
    "        self.sum=self.number1+self.number2\n",
    "        self.diff=self.number1-self.number2\n",
    "        self.product=self.number1*self.number2\n",
    "        self.quo=self.number1/self.number2\n",
    "    def print_info(self):\n",
    "        print(self.number1)\n",
    "        print(self.number2)\n",
    "    def __str__(self):\n",
    "        return f\"tổng là {self.sum}\\nhiệu là {self.diff}\\ntích là {self.product}\\nthương là {self.quo}\"\n",
    "    def addition(self):\n",
    "        return Equation(self.sum)\n",
    "    def subtract(self):\n",
    "        return Equation(self.diff)\n",
    "    def multi(self):\n",
    "        return Equation(self.product)\n",
    "    def division(self):\n",
    "        return Equation(self.quo)"
   ]
  },
  {
   "cell_type": "code",
   "execution_count": 22,
   "id": "31c3d38c-ecc1-45b7-8587-ecada052eb62",
   "metadata": {},
   "outputs": [
    {
     "name": "stdout",
     "output_type": "stream",
     "text": [
      "4\n",
      "2\n",
      "tổng là 6\n",
      "hiệu là 2\n",
      "tích là 8\n",
      "thương là 2.0\n"
     ]
    }
   ],
   "source": [
    "a=Equation(4, 2)\n",
    "a.print_info()\n",
    "print(str(a))"
   ]
  }
 ],
 "metadata": {
  "kernelspec": {
   "display_name": "Python 3 (ipykernel)",
   "language": "python",
   "name": "python3"
  },
  "language_info": {
   "codemirror_mode": {
    "name": "ipython",
    "version": 3
   },
   "file_extension": ".py",
   "mimetype": "text/x-python",
   "name": "python",
   "nbconvert_exporter": "python",
   "pygments_lexer": "ipython3",
   "version": "3.11.4"
  }
 },
 "nbformat": 4,
 "nbformat_minor": 5
}
