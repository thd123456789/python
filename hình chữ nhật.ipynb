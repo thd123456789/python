{
 "cells": [
  {
   "cell_type": "code",
   "execution_count": 9,
   "id": "4fa445eb-7fcb-4b33-bbe1-8ce582e9dce8",
   "metadata": {},
   "outputs": [],
   "source": [
    "import turtle\n",
    "pen = turtle.Turtle()\n",
    "pen.pensize(5)\n",
    "pen.pencolor(\"red\")\n",
    "pen.fillcolor(\"red\")\n",
    "pen.begin_fill()\n",
    "pen.forward(100)\n",
    "pen.right(90)\n",
    "pen.forward(50)\n",
    "pen.right(90)\n",
    "pen.forward(100)\n",
    "pen.right(90)\n",
    "pen.forward(50)\n",
    "pen.right(90)\n",
    "pen.end_fill()\n",
    "turtle.done()"
   ]
  }
 ],
 "metadata": {
  "kernelspec": {
   "display_name": "Python 3 (ipykernel)",
   "language": "python",
   "name": "python3"
  },
  "language_info": {
   "codemirror_mode": {
    "name": "ipython",
    "version": 3
   },
   "file_extension": ".py",
   "mimetype": "text/x-python",
   "name": "python",
   "nbconvert_exporter": "python",
   "pygments_lexer": "ipython3",
   "version": "3.11.4"
  }
 },
 "nbformat": 4,
 "nbformat_minor": 5
}
