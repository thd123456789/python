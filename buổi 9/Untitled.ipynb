{
 "cells": [
  {
   "cell_type": "code",
   "execution_count": 5,
   "id": "d29e879b-ddf9-4607-b117-fb68cc026374",
   "metadata": {},
   "outputs": [
    {
     "name": "stdin",
     "output_type": "stream",
     "text": [
      "nhập Ox: 3\n",
      "nhập Oy 4\n"
     ]
    }
   ],
   "source": [
    "import turtle\n",
    "import math\n",
    "i=0\n",
    "a=int(input(\"nhập Ox:\"))\n",
    "b=int(input(\"nhập Oy\"))\n",
    "screen=turtle.Sc\n",
    "pen=turtle.Turtle()\n",
    "pen.goto(0,0)\n",
    "distance=math.sqrt((a**2)+(b**2))\n",
    "while distance<a:\n",
    "    pen.forward(i)\n",
    "    pen.right(10)\n",
    "    i+=0.05\n",
    "    if pen.distance(0,pen)==distance:\n",
    "        break"
   ]
  }
 ],
 "metadata": {
  "kernelspec": {
   "display_name": "Python 3 (ipykernel)",
   "language": "python",
   "name": "python3"
  },
  "language_info": {
   "codemirror_mode": {
    "name": "ipython",
    "version": 3
   },
   "file_extension": ".py",
   "mimetype": "text/x-python",
   "name": "python",
   "nbconvert_exporter": "python",
   "pygments_lexer": "ipython3",
   "version": "3.11.4"
  }
 },
 "nbformat": 4,
 "nbformat_minor": 5
}
