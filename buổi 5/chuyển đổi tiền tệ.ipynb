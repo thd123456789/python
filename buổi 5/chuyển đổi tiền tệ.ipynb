{
 "cells": [
  {
   "cell_type": "code",
   "execution_count": 1,
   "id": "c4aaf39a-3b56-4baa-8779-fdaa704e8e98",
   "metadata": {},
   "outputs": [
    {
     "name": "stdin",
     "output_type": "stream",
     "text": [
      "nhập số tiền USD: 56\n"
     ]
    },
    {
     "name": "stdout",
     "output_type": "stream",
     "text": [
      "số tiền VND tương ứng là 1334.2\n"
     ]
    }
   ],
   "source": [
    "USD=float(input(\"nhập số tiền USD:\"))\n",
    "VND=23.825*USD\n",
    "print(f\"số tiền VND tương ứng là {VND}\")"
   ]
  }
 ],
 "metadata": {
  "kernelspec": {
   "display_name": "Python 3 (ipykernel)",
   "language": "python",
   "name": "python3"
  },
  "language_info": {
   "codemirror_mode": {
    "name": "ipython",
    "version": 3
   },
   "file_extension": ".py",
   "mimetype": "text/x-python",
   "name": "python",
   "nbconvert_exporter": "python",
   "pygments_lexer": "ipython3",
   "version": "3.11.4"
  }
 },
 "nbformat": 4,
 "nbformat_minor": 5
}
