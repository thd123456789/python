{
 "cells": [
  {
   "cell_type": "code",
   "execution_count": 2,
   "id": "37225cb3-1558-4ee8-92c9-3f8f23dafea1",
   "metadata": {
    "scrolled": true
   },
   "outputs": [],
   "source": [
    "def draw_house(width,length):\n",
    "    import turtle\n",
    "    t=turtle.Turtle()\n",
    "    t.left(180)\n",
    "    t.fillcolor(\"brown\")\n",
    "    t.begin_fill()\n",
    "    for i in range (2):\n",
    "        t.forward(width)\n",
    "        t.right(90)\n",
    "        t.forward(length)\n",
    "        t.right(90)\n",
    "    t.end_fill()\n",
    "    t.left(180)\n",
    "    t.fillcolor(\"orange\")\n",
    "    t.begin_fill()\n",
    "    for n in range (2):\n",
    "        t.forward(width/2)\n",
    "        t.left(90)\n",
    "        t.forward(length/2)\n",
    "        t.left(90)\n",
    "    t.end_fill()\n",
    "    t.goto(0,0)\n",
    "    t.goto(-(width/2),0)\n",
    "    t.left(90)\n",
    "    t.width(5)\n",
    "    t.forward(length)\n",
    "    t.penup()\n",
    "    t.goto(0,0)\n",
    "    t.goto((-width),length/2)\n",
    "    t.pendown()\n",
    "    t.right(90)\n",
    "    t.width(5)\n",
    "    t.forward(width)\n",
    "    t.width(1)\n",
    "    t.penup()\n",
    "    t.goto(0,0)\n",
    "    t.goto(-((width/2)+(((3*width)/2)/4)),((length/2)+((length/2)/4)))\n",
    "    t.pendown()\n",
    "    t.fillcolor(\"blue\")\n",
    "    t.begin_fill()\n",
    "    for m in range (2):\n",
    "        t.forward((width/2)/2)\n",
    "        t.left(90)\n",
    "        t.forward((length/2)/2)\n",
    "        t.left(90)\n",
    "    t.end_fill()\n",
    "    t.penup()\n",
    "    t.goto(0,0)\n",
    "    t.goto(((width/2)/4),0)\n",
    "    t.pendown()\n",
    "    t.fillcolor(\"black\")\n",
    "    t.begin_fill()\n",
    "    for l in range (2):\n",
    "        t.forward((width/2)/2)\n",
    "        t.left(90)\n",
    "        t.forward((3*(length/2)/4))\n",
    "        t.left(90)\n",
    "    t.end_fill()\n",
    "    \n",
    "\n",
    "\n",
    "draw_house(300,200)"
   ]
  }
 ],
 "metadata": {
  "kernelspec": {
   "display_name": "Python 3 (ipykernel)",
   "language": "python",
   "name": "python3"
  },
  "language_info": {
   "codemirror_mode": {
    "name": "ipython",
    "version": 3
   },
   "file_extension": ".py",
   "mimetype": "text/x-python",
   "name": "python",
   "nbconvert_exporter": "python",
   "pygments_lexer": "ipython3",
   "version": "3.11.4"
  }
 },
 "nbformat": 4,
 "nbformat_minor": 5
}
