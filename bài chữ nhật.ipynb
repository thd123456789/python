{
 "cells": [
  {
   "cell_type": "code",
   "execution_count": 11,
   "id": "a329a1bc-5f1f-49c9-87ec-8ce301ca2542",
   "metadata": {},
   "outputs": [
    {
     "name": "stdin",
     "output_type": "stream",
     "text": [
      "Nhập màu hoặc mã màu:  red\n",
      "Nhập chiều dài hình chữ nhật:  3\n",
      "Nhập chiều rộng hình chữ nhật:  4\n"
     ]
    },
    {
     "name": "stdout",
     "output_type": "stream",
     "text": [
      "Chu vi của hình chữ nhật (dài = 3.0, rộng = 4.0) là 14.0\n",
      "Diện tích của hình chữ nhật (dài = 3.0, rộng = 4.0) là 12.0\n"
     ]
    }
   ],
   "source": [
    "import turtle\n",
    "color = input(\"Nhập màu hoặc mã màu: \")\n",
    "w = float(input(\"Nhập chiều dài hình chữ nhật: \"))\n",
    "h = float(input(\"Nhập chiều rộng hình chữ nhật: \"))\n",
    "t = turtle.Turtle()\n",
    "t.hideturtle()\n",
    "t.color(color)\n",
    "t.begin_fill()\n",
    "t.forward(w)\n",
    "t.right(90)\n",
    "t.forward(h)\n",
    "t.right(90)\n",
    "t.forward(w)\n",
    "t.right(90)\n",
    "t.forward(h)\n",
    "t.end_fill()\n",
    "turtle.done()\n",
    "\n",
    "c = 2 * (w + h)\n",
    "s = w * h\n",
    "\n",
    "print(f\"Chu vi của hình chữ nhật (dài = {w}, rộng = {h}) là {c}\")\n",
    "print(f\"Diện tích của hình chữ nhật (dài = {w}, rộng = {h}) là {s}\")"
   ]
  }
 ],
 "metadata": {
  "kernelspec": {
   "display_name": "Python 3 (ipykernel)",
   "language": "python",
   "name": "python3"
  },
  "language_info": {
   "codemirror_mode": {
    "name": "ipython",
    "version": 3
   },
   "file_extension": ".py",
   "mimetype": "text/x-python",
   "name": "python",
   "nbconvert_exporter": "python",
   "pygments_lexer": "ipython3",
   "version": "3.11.4"
  }
 },
 "nbformat": 4,
 "nbformat_minor": 5
}
