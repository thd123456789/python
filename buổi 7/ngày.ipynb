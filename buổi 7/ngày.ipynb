{
 "cells": [
  {
   "cell_type": "code",
   "execution_count": 1,
   "id": "c3aaebad-6c71-4936-b982-dffb30668238",
   "metadata": {},
   "outputs": [
    {
     "name": "stdin",
     "output_type": "stream",
     "text": [
      "nhập số: 8\n"
     ]
    },
    {
     "name": "stdout",
     "output_type": "stream",
     "text": [
      "sorry! out of range\n"
     ]
    }
   ],
   "source": [
    "a=int(input(\"nhập số:\"))\n",
    "if a==1:\n",
    "    print(\"monday\")\n",
    "elif a==2:\n",
    "    print(\"tuesday\")\n",
    "elif a==3:\n",
    "    print(\"wednesday\")\n",
    "elif a==4:\n",
    "    print(\"thursday\")\n",
    "elif a==5:\n",
    "    print(\"friday\")\n",
    "elif a==6:\n",
    "    print(\"saturday\")\n",
    "elif a==7:\n",
    "    print(\"sunday\")\n",
    "else:\n",
    "    print(\"sorry! out of range\")"
   ]
  }
 ],
 "metadata": {
  "kernelspec": {
   "display_name": "Python 3 (ipykernel)",
   "language": "python",
   "name": "python3"
  },
  "language_info": {
   "codemirror_mode": {
    "name": "ipython",
    "version": 3
   },
   "file_extension": ".py",
   "mimetype": "text/x-python",
   "name": "python",
   "nbconvert_exporter": "python",
   "pygments_lexer": "ipython3",
   "version": "3.11.4"
  }
 },
 "nbformat": 4,
 "nbformat_minor": 5
}
