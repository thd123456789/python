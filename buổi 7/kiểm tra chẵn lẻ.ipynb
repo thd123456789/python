{
 "cells": [
  {
   "cell_type": "code",
   "execution_count": null,
   "id": "610911c3-65b0-4efb-b711-0203a2983ef6",
   "metadata": {},
   "outputs": [],
   "source": [
    "a=imput(\"nhập số:\")\n",
    "a=float(a)\n",
    "if a%2==0:\n",
    "    print(\"a là số chẵn\")"
   ]
  }
 ],
 "metadata": {
  "kernelspec": {
   "display_name": "Python 3 (ipykernel)",
   "language": "python",
   "name": "python3"
  },
  "language_info": {
   "codemirror_mode": {
    "name": "ipython",
    "version": 3
   },
   "file_extension": ".py",
   "mimetype": "text/x-python",
   "name": "python",
   "nbconvert_exporter": "python",
   "pygments_lexer": "ipython3",
   "version": "3.11.4"
  }
 },
 "nbformat": 4,
 "nbformat_minor": 5
}
