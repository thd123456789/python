{
 "cells": [
  {
   "cell_type": "code",
   "execution_count": 2,
   "id": "65bdcf5f-e183-4160-a58d-f4b8618ad7f7",
   "metadata": {},
   "outputs": [
    {
     "name": "stdin",
     "output_type": "stream",
     "text": [
      "nhập chiều cao: 1.67\n",
      "nhập cân nặng: 55\n"
     ]
    },
    {
     "name": "stdout",
     "output_type": "stream",
     "text": [
      "chỉ số BMI của bạn là 19.72\n",
      "bạn bình thường\n"
     ]
    }
   ],
   "source": [
    "Height=float(input(\"nhập chiều cao:\")) #đơn vị: mét\n",
    "Weight=float(input(\"nhập cân nặng:\"))  #đơn vị: kg\n",
    "BMI=round((Weight/(Height**2)), 2)\n",
    "print(f\"chỉ số BMI của bạn là {BMI}\")\n",
    "if BMI<16:\n",
    "    print(\"bạn gầy cấp độ III\")\n",
    "elif 16<=BMI<17:\n",
    "    print(\"bạn gầy cấp độ II\")\n",
    "elif 17<=BMI<18.5:\n",
    "    print(\"bạn gầy cấp độ I\")\n",
    "elif 18.5<=BMI<25:\n",
    "    print(\"bạn bình thường\")\n",
    "elif 25<=BMI<30:\n",
    "    print(\"bạn thừa cân\")\n",
    "elif 30<=BMI<35:\n",
    "    print(\"bạn béo phì cấp độ I\")\n",
    "elif 35<=BMI<40:\n",
    "    print(\"bạn béo phì cấp độ II\")\n",
    "elif 40<BMI:\n",
    "    print(\"bạn béo phì cấp độ III\")"
   ]
  }
 ],
 "metadata": {
  "kernelspec": {
   "display_name": "Python 3 (ipykernel)",
   "language": "python",
   "name": "python3"
  },
  "language_info": {
   "codemirror_mode": {
    "name": "ipython",
    "version": 3
   },
   "file_extension": ".py",
   "mimetype": "text/x-python",
   "name": "python",
   "nbconvert_exporter": "python",
   "pygments_lexer": "ipython3",
   "version": "3.11.4"
  }
 },
 "nbformat": 4,
 "nbformat_minor": 5
}
