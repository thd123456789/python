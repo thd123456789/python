{
 "cells": [
  {
   "cell_type": "code",
   "execution_count": 1,
   "id": "65fd1ad2-0a75-4bf2-b337-564a262e80d3",
   "metadata": {},
   "outputs": [
    {
     "name": "stdin",
     "output_type": "stream",
     "text": [
      "nhập số tiền bạn đã chi: 160\n"
     ]
    },
    {
     "name": "stdout",
     "output_type": "stream",
     "text": [
      "bạn được giảm giá 50$\n"
     ]
    }
   ],
   "source": [
    "mon=int(input(\"nhập số tiền bạn đã chi:\"))\n",
    "if mon<75:\n",
    "    print(\"bạn không được tham gia chương trình giảm giá\")\n",
    "elif 75<=mon<100:\n",
    "    print(\"bạn được giảm 15$\")\n",
    "elif 100<=mon<150:\n",
    "    print(\"bạn được giảm giá 25$\")\n",
    "else:\n",
    "    print(\"bạn được giảm giá 50$\")"
   ]
  }
 ],
 "metadata": {
  "kernelspec": {
   "display_name": "Python 3 (ipykernel)",
   "language": "python",
   "name": "python3"
  },
  "language_info": {
   "codemirror_mode": {
    "name": "ipython",
    "version": 3
   },
   "file_extension": ".py",
   "mimetype": "text/x-python",
   "name": "python",
   "nbconvert_exporter": "python",
   "pygments_lexer": "ipython3",
   "version": "3.11.4"
  }
 },
 "nbformat": 4,
 "nbformat_minor": 5
}
