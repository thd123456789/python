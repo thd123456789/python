{
 "cells": [
  {
   "cell_type": "code",
   "execution_count": null,
   "id": "99a48c15-90cd-4cb2-8f40-9df79d4d6678",
   "metadata": {},
   "outputs": [
    {
     "name": "stdin",
     "output_type": "stream",
     "text": [
      "nhập khoảng cách 100\n"
     ]
    }
   ],
   "source": [
    "import turtle\n",
    "i=0\n",
    "pen=turtle.Turtle()\n",
    "pen.goto(0,0)\n",
    "a=int(input(\"nhập khoảng cách\"))\n",
    "distance=0\n",
    "while distance<a:\n",
    "    pen.forward(i)\n",
    "    pen.right(10)\n",
    "    i+=0.05\n",
    "    distance+=0.1"
   ]
  }
 ],
 "metadata": {
  "kernelspec": {
   "display_name": "Python 3 (ipykernel)",
   "language": "python",
   "name": "python3"
  },
  "language_info": {
   "codemirror_mode": {
    "name": "ipython",
    "version": 3
   },
   "file_extension": ".py",
   "mimetype": "text/x-python",
   "name": "python",
   "nbconvert_exporter": "python",
   "pygments_lexer": "ipython3",
   "version": "3.11.4"
  }
 },
 "nbformat": 4,
 "nbformat_minor": 5
}
