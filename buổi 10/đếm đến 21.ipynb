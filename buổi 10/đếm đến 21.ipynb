{
 "cells": [
  {
   "cell_type": "code",
   "execution_count": 13,
   "id": "6966dcad-c176-44a1-9f1f-82ca7b1849d2",
   "metadata": {},
   "outputs": [
    {
     "name": "stdin",
     "output_type": "stream",
     "text": [
      "nhập lựa chọn 1\n"
     ]
    },
    {
     "name": "stdout",
     "output_type": "stream",
     "text": [
      "bạn chọn 1\n",
      "máy chọn 1\n",
      "tổng là 2\n"
     ]
    },
    {
     "name": "stdin",
     "output_type": "stream",
     "text": [
      "nhập lựa chọn 1\n"
     ]
    },
    {
     "name": "stdout",
     "output_type": "stream",
     "text": [
      "bạn chọn 1\n",
      "máy chọn 3\n",
      "tổng là 6\n"
     ]
    },
    {
     "name": "stdin",
     "output_type": "stream",
     "text": [
      "nhập lựa chọn 1\n"
     ]
    },
    {
     "name": "stdout",
     "output_type": "stream",
     "text": [
      "bạn chọn 1\n",
      "máy chọn 1\n",
      "tổng là 8\n"
     ]
    },
    {
     "name": "stdin",
     "output_type": "stream",
     "text": [
      "nhập lựa chọn 1\n"
     ]
    },
    {
     "name": "stdout",
     "output_type": "stream",
     "text": [
      "bạn chọn 1\n",
      "máy chọn 1\n",
      "tổng là 10\n"
     ]
    },
    {
     "name": "stdin",
     "output_type": "stream",
     "text": [
      "nhập lựa chọn 1\n"
     ]
    },
    {
     "name": "stdout",
     "output_type": "stream",
     "text": [
      "bạn chọn 1\n",
      "máy chọn 1\n",
      "tổng là 12\n"
     ]
    },
    {
     "name": "stdin",
     "output_type": "stream",
     "text": [
      "nhập lựa chọn 1\n"
     ]
    },
    {
     "name": "stdout",
     "output_type": "stream",
     "text": [
      "bạn chọn 1\n",
      "máy chọn 1\n",
      "tổng là 14\n"
     ]
    },
    {
     "name": "stdin",
     "output_type": "stream",
     "text": [
      "nhập lựa chọn 3\n"
     ]
    },
    {
     "name": "stdout",
     "output_type": "stream",
     "text": [
      "bạn chọn 3\n",
      "máy chọn 2\n",
      "tổng là 19\n"
     ]
    },
    {
     "name": "stdin",
     "output_type": "stream",
     "text": [
      "nhập lựa chọn 1\n"
     ]
    },
    {
     "name": "stdout",
     "output_type": "stream",
     "text": [
      "bạn chọn 1\n",
      "máy chọn 3\n",
      "tổng là 23\n",
      "computer loses\n"
     ]
    }
   ],
   "source": [
    "import random as r\n",
    "count=0\n",
    "for i in range (1,22):\n",
    "    i+=1\n",
    "    my_choice=int(input(\"nhập lựa chọn\"))\n",
    "    print(f\"bạn chọn {my_choice}\")\n",
    "    count+=my_choice\n",
    "    if count<21:\n",
    "        pass\n",
    "    if count>=21:\n",
    "        if 21-my_choice<=count:\n",
    "            print(\"you lose\")\n",
    "            break\n",
    "    computer_choice=r.randint(1,3)\n",
    "    count+=computer_choice\n",
    "    print(f\"máy chọn {computer_choice}\")\n",
    "    print(f\"tổng là {count}\")\n",
    "    if count<21:\n",
    "         pass\n",
    "    if count>=21:\n",
    "        if 21-computer_choice<=count:\n",
    "            print(\"computer loses\")\n",
    "            break"
   ]
  }
 ],
 "metadata": {
  "kernelspec": {
   "display_name": "Python 3 (ipykernel)",
   "language": "python",
   "name": "python3"
  },
  "language_info": {
   "codemirror_mode": {
    "name": "ipython",
    "version": 3
   },
   "file_extension": ".py",
   "mimetype": "text/x-python",
   "name": "python",
   "nbconvert_exporter": "python",
   "pygments_lexer": "ipython3",
   "version": "3.11.4"
  }
 },
 "nbformat": 4,
 "nbformat_minor": 5
}
